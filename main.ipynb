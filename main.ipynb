{
 "cells": [
  {
   "cell_type": "code",
   "execution_count": 22,
   "metadata": {},
   "outputs": [],
   "source": [
    "class Node:\n",
    "    def __init__(self,value):\n",
    "        self.data = value\n",
    "        self.next = None\n",
    "    "
   ]
  },
  {
   "cell_type": "code",
   "execution_count": 23,
   "metadata": {},
   "outputs": [],
   "source": [
    "class Stacks:\n",
    "    def __init__(self):\n",
    "        self.top = None\n",
    "        self.n = 0\n",
    "    def isempty(self):\n",
    "        return self.top == None\n",
    "\n",
    "    def peek(self):\n",
    "        if (self.isempty()):\n",
    "            return \"Empty stack\"\n",
    "        return self.top\n",
    "\n",
    "    def push(self,value):\n",
    "        new_obj = Node(value)\n",
    "        new_obj.next = self.top\n",
    "        self.top = new_obj\n",
    "        self.n+=1\n",
    "\n",
    "    def __len__(self):\n",
    "        return self.n\n",
    "        \n",
    "    def pop(self):\n",
    "        if self.top == None:\n",
    "            return \"Empty list\"\n",
    "        data = self.top.data\n",
    "        self.top = self.top.next\n",
    "        self.n-=1\n",
    "        return data\n",
    "\n",
    "    def __str__(self):\n",
    "        curr = self.top\n",
    "        str_value = \"\"\n",
    "        while curr!= None:\n",
    "            str_value += str(curr.data) + \"-\"\n",
    "            curr = curr.next\n",
    "        return str_value[:-1]\n"
   ]
  },
  {
   "cell_type": "code",
   "execution_count": null,
   "metadata": {},
   "outputs": [],
   "source": [
    "def rev_str(text): #reversing a string using stacks\n",
    "    s = Stacks()\n",
    "    for i in text:\n",
    "        s.push(i)\n",
    "    reved_str = \"\"\n",
    "    while not s.isempty():\n",
    "        reved_str =reved_str +  str(s.pop()) \n",
    "    return reved_str"
   ]
  },
  {
   "cell_type": "code",
   "execution_count": null,
   "metadata": {},
   "outputs": [],
   "source": [
    "#Stacks undo redo problem\n",
    "#just give itr a pattern and text it will work\n",
    "def text_editor(text, pattern):\n",
    "    u = Stacks()\n",
    "    r = Stacks()\n",
    "    for i in text:\n",
    "        u.push(i)\n",
    "    for i in pattern:\n",
    "        if i ==\"u\":\n",
    "           data = u.pop()\n",
    "           r.push(data)\n",
    "        else:\n",
    "            data = r.pop()\n",
    "            u.push(data)\n",
    "    res = \"\"\n",
    "    while (not u.isempty()):\n",
    "            res = u.pop() + res\n",
    "    print(res)"
   ]
  },
  {
   "cell_type": "code",
   "execution_count": null,
   "metadata": {},
   "outputs": [],
   "source": []
  }
 ],
 "metadata": {
  "kernelspec": {
   "display_name": "Python 3",
   "language": "python",
   "name": "python3"
  },
  "language_info": {
   "codemirror_mode": {
    "name": "ipython",
    "version": 3
   },
   "file_extension": ".py",
   "mimetype": "text/x-python",
   "name": "python",
   "nbconvert_exporter": "python",
   "pygments_lexer": "ipython3",
   "version": "3.13.0"
  }
 },
 "nbformat": 4,
 "nbformat_minor": 2
}
